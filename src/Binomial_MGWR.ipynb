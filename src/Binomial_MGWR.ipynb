{
 "cells": [
  {
   "cell_type": "markdown",
   "metadata": {},
   "source": [
    "# <center>Multiscale Geographically Weighted Regression - Binomial dependent variable</center>\n",
    "\n",
    "\n",
    "The model has been explored and tested for multiple parameters on real and simulated datasets. The research includes the following outline with separate notebooks for each part.\n",
    "\n",
    "\n",
    "**Notebook Outline:**  \n",
    "  \n",
    "**Introduction Notebook (current)**\n",
    "- [Introduction](#Introduction)\n",
    " - [Introduction to the project](#Introduction-to-the-project)\n",
    " - [Statistical Equations](#Statistical-Equations) \n",
    "- [Local Scoring Algorithm](#Local-Scoring-Algorithm)\n",
    "- [Notebooks with tests](#Notebooks-with-Tests)\n",
    "- [References](#References)"
   ]
  },
  {
   "cell_type": "markdown",
   "metadata": {},
   "source": [
    "[Back to the main page](https://mehak-sachdeva.github.io/MGWR_book/)"
   ]
  },
  {
   "cell_type": "markdown",
   "metadata": {},
   "source": [
    "---\n",
    "\n",
    "# Introduction\n",
    "\n",
    "***\n",
    "\n",
    "## Introduction to the problem\n",
    "\n",
    "As prefaced earlier, the Geographically Weighted Regression model in PySAL can currently estimate Gaussian, Poisson and Logistic models though the Multiscale extension of the GWR model is currently limited to only Gaussian models. This part of the project aims to expand the MGWR model to nonlinear local spatial regression modeling techniques where the response outcomes may be binomial (or a Logit model). This will enable a richer and holistic local statistical modeling framework to model multi-scale process heterogeneity for the open source community.\n",
    "\n",
    "## Statistical Equations\n",
    "\n",
    "***\n",
    "\n",
    "A conventional Logistic regression model with $x_1, x_2, ... ,x_k$ as predictors, a binary(Bernoulli) response variable y and l denoting the log-odds of the event that y=1, can be written as:\n",
    "\n",
    "\\begin{align}\n",
    "l = log_b ( p / (1-p)) = ({\\sum} {\\beta} & _k x _{k,i}) \\\\\n",
    "\\end{align}\n",
    "\n",
    "where  $x_{k,1}$ is the kth explanatory variable in place i, $𝛽_{ks}$ are the parameters and p is the probability such that p = P( Y = 1 ).\n",
    "\n",
    "By exponentiating the log-odds:\n",
    "\n",
    "$p / (1-p) = b^ {𝛽_0+𝛽_1 x_1+𝛽_2 x_2} $\n",
    "\n",
    "It follows from this - the probability that Y = 1 is:\n",
    "\n",
    "$p = (b^ {𝛽_0 + 𝛽_1 x_1 + 𝛽_2 x_2}) / (b^ {𝛽_0 + 𝛽_1 x_1 + 𝛽_2 x_2} + 1)$ = $1 / (1 + b^ {-𝛽_0 + 𝛽_1 x_1 + 𝛽_2 x_2})$\n"
   ]
  },
  {
   "cell_type": "markdown",
   "metadata": {},
   "source": [
    "# Local Scoring Algorithm\n",
    "\n",
    "***\n",
    "\n",
    "Following the technique from (Hastie & Tibshirani, 1986), for logisitic generalized additive models the model was estimated using the local scoring algorithm as follows:\n",
    "\n",
    "1. Initialize the current estimate of the additive predictor $n_i^{old}$:<br>$n_i^{old} = {\\sum} {\\beta}_k  X_k$<br>and the probability such P(Y=1): $p_i^{old} = exp({n_i^{old}})/(1+exp({n_i^{old}}))$ <br><br>\n",
    "2. Compute the working response: <br>\n",
    "$z_i = n_i^{old} + (y_i - p_i^{old})/(p_i^{old}(1-p_i^{old}))$<br><br>\n",
    "3. compute weights $w_i = p_i^{old} (1-p_i^{old})$<br><br>\n",
    "4. obtain $n_i^{new}$ by fitting a weighted additive model to $z_i$. In this the smoothers in the backfitting algorithm incorporate the additional weights and GWR is used for the linear parts.<br><br>\n",
    "\n",
    "These steps are repeated until the relative change in the fitted coefficients and the functions is below a tolerance threshold (1e-05 in this case).\n",
    "\n",
    "Reference for these equations: http://ugrad.stat.ubc.ca/~nancy/526_2003/projects/kazi2.pdf"
   ]
  },
  {
   "cell_type": "markdown",
   "metadata": {},
   "source": [
    "### Further work required:\n",
    "\n",
    "The parameters for the estimated model using Monte Carlo tests with simulated data are close to expected. Further exploration is required to theoretically justify the model in the context of spatial data models, especially MGWR.\n",
    "\n",
    "As an exploration, this work includes results from both adding a stochastic error to the model during calibration and without it. Results for both are shown in the notebooks below."
   ]
  },
  {
   "cell_type": "markdown",
   "metadata": {},
   "source": [
    "# Notebooks with Tests"
   ]
  },
  {
   "cell_type": "markdown",
   "metadata": {},
   "source": [
    "**[Initial module changes and univariate model check ](http://mehak-sachdeva.github.io/MGWR_book/Html/Binomial_MGWR_univariate_check)**\n",
    "- Setup with libraries\n",
    "- Fundamental equations for Binomial MGWR\n",
    "- Example Dataset\n",
    "- Helper functions\n",
    "- Univariate example\n",
    "    - Parameter check\n",
    "    - Bandwidths check\n",
    "\n",
    "**[Simulated Data example](http://mehak-sachdeva.github.io/MGWR_book/Html/Simulated_data_example_Binomial-MGWR)**\n",
    "- Setup with libraries\n",
    "- Create Simulated Dataset\n",
    "    - Forming independent variables\n",
    "    - Creating y variable with Binomial distribution\n",
    "- Univariate example\n",
    "    - Bandwidth: Random initialization check\n",
    "    - Parameters check\n",
    "- Multivariate example\n",
    "    - Bandwidths: Random initialization check\n",
    "    - Parameters check\n",
    "- Global model parameter check\n",
    " \n",
    "**[Real Data example](http://mehak-sachdeva.github.io/MGWR_book/Html/Real_data_example_Binomial-MGWR)**\n",
    "\n",
    "- Setup with libraries\n",
    "- Landslide Dataset\n",
    "- Univariate example\n",
    "    - Bandwidth: Random initialization check\n",
    "    - Parameter check\n",
    "- Multivariate example\n",
    "    - Bandwidths: Random initialization check\n",
    "- MGWR bandwidths\n",
    "- AIC, AICc, BIC check"
   ]
  },
  {
   "cell_type": "markdown",
   "metadata": {},
   "source": [
    "## Monte Carlo Tests\n",
    "\n",
    "***"
   ]
  },
  {
   "cell_type": "markdown",
   "metadata": {},
   "source": [
    "### Monte Carlo tests for model estimated with error\n",
    "\n",
    "**[Monte Carlo Simulation Visualization](http://mehak-sachdeva.github.io/MGWR_book/Html/Binomial_MGWR_MonteCarlo_Results)**\n",
    " \n",
    "- Setup with libraries\n",
    "- List bandwidths from pickles\n",
    "- Parameter functions\n",
    "- GWR bandwidth\n",
    "- MGWR bandwidths\n",
    "- AIC, AICc, BIC check\n",
    "    - AIC, AICc, BIC Boxplots for comparison\n",
    "- Parameter comparison from MGWR and GWR"
   ]
  },
  {
   "cell_type": "markdown",
   "metadata": {},
   "source": [
    "### Monte Carlo tests for model estimated without error\n",
    "\n",
    "**[Monte Carlo Simulation Visualization](http://mehak-sachdeva.github.io/MGWR_book/Html/Binomial_MGWR_MonteCarlo_Results-we)**\n",
    " \n",
    "- Setup with libraries\n",
    "- List bandwidths from pickles\n",
    "- Parameter functions\n",
    "- GWR bandwidth\n",
    "- MGWR bandwidths\n",
    "- AIC, AICc, BIC check\n",
    "    - AIC, AICc, BIC Boxplots for comparison\n",
    "- Parameter comparison from MGWR and GWR"
   ]
  },
  {
   "cell_type": "markdown",
   "metadata": {},
   "source": [
    "# References:\n",
    "\n",
    "1. Fotheringham, A. S., Yang, W., & Kang, W. (2017). Multiscale Geographically Weighted Regression (MGWR). Annals of the American Association of Geographers, 107(6), 1247–1265. https://doi.org/10.1080/24694452.2017.1352480\n",
    "\n",
    "\n",
    "2. Yu, H., Fotheringham, A. S., Li, Z., Oshan, T., Kang, W., & Wolf, L. J. (2019). Inference in Multiscale Geographically Weighted Regression. Geographical Analysis, gean.12189. https://doi.org/10.1111/gean.12189\n",
    "\n",
    "\n",
    "3. Hastie, T., & Tibshirani, R. (1986). Generalized Additive Models. Statistical Science, 1(3), 297–310. https://doi.org/10.1214/ss/1177013604\n",
    "\n",
    "\n",
    "4. Wood, S. N. (2006). Generalized additive models : an introduction with R. Chapman & Hall/CRC."
   ]
  },
  {
   "cell_type": "markdown",
   "metadata": {},
   "source": [
    "[Back to the main page](https://mehak-sachdeva.github.io/MGWR_book/)"
   ]
  }
 ],
 "metadata": {
  "kernelspec": {
   "display_name": "Python 3",
   "language": "python",
   "name": "python3"
  },
  "language_info": {
   "codemirror_mode": {
    "name": "ipython",
    "version": 3
   },
   "file_extension": ".py",
   "mimetype": "text/x-python",
   "name": "python",
   "nbconvert_exporter": "python",
   "pygments_lexer": "ipython3",
   "version": "3.6.6"
  }
 },
 "nbformat": 4,
 "nbformat_minor": 2
}
