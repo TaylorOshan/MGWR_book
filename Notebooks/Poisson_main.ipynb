{
 "cells": [
  {
   "cell_type": "markdown",
   "metadata": {},
   "source": [
    "# <center>Multiscale Geographically Weighted Regression - Poisson dependent variable</center>\n",
    "\n",
    "\n",
    "The model has been explored and tested for multiple parameters on real and simulated datasets. The research includes the following outline with separate notebooks for each part.\n",
    "\n",
    "\n",
    "**Notebook Outline:**  \n",
    "  \n",
    "**Introduction (current)**\n",
    "- [Introduction](#Introduction)\n",
    " - [Introduction to the problem](#Introduction-to-the-project)\n",
    " - [Statistical Equations](#Statistical-Equations) \n",
    "- [Approaches Explored](#Approaches-Explored)\n",
    "- [Other notebooks](#Other-notebooks)\n",
    "- [References](#References)"
   ]
  },
  {
   "cell_type": "markdown",
   "metadata": {},
   "source": [
    "[Back to the main page](https://mehak-sachdeva.github.io/MGWR_book/)"
   ]
  },
  {
   "cell_type": "markdown",
   "metadata": {},
   "source": [
    "---\n",
    "\n",
    "# Introduction\n",
    "\n",
    "***\n",
    "\n",
    "## Introduction to the problem\n",
    "\n",
    "A recent addition to the local statistical models in PySAL is the implementation of Multiscale Geographically Weighted Regression (MGWR) model, a multiscale extension to the widely used approach for modeling process spatial heterogeneity - Geographically Weighted Regression (GWR). GWR is a local spatial multivariate statistical modeling technique embedded within the regression framework that is calibrated and estimates covariate parameters at each location using borrowed data from neighboring observations. The extent of neighboring observations used for calibration is interpreted as the indicator of scale for the spatial processes and is assumed to be constant across covariates in GWR. MGWR, using a back-fitting algorithm relaxes the assumption that all processes being modeled operate at the same spatial scale and estimates a unique indicator of scale for each process.\n",
    "The GWR model in PySAL can currently estimate Gaussian, Poisson and Logistic models though the MGWR model is currently limited to only Gaussian models. This project aims to expand the MGWR model to nonlinear local spatial regression modeling techniques where the response outcomes may be discrete (following a Poisson distribution). This will enable a richer and holistic local statistical modeling framework to model multi-scale process heterogeneity for the open source community.\n",
    "\n",
    "## Statistical Equations\n",
    "\n",
    "A conventional Poisson regression model is written as:\n",
    "\n",
    "\\begin{align}\n",
    "O_i {\\sim} Poisson[E_i exp ({\\sum} {\\beta} & _k x _{k,i})] \\\\\n",
    "\\end{align}\n",
    "\n",
    "where  $x_{k,1}$ is the kth explanatory variable in place i and the ${\\beta}_ks$ are the parameters and Poisson indicates a Poisson distribution with mean $\\lambda$.\n",
    "\n",
    "Nakaya et.al. (2005) introduced the concept of allowing parameter values to vary with geographical location ($u_i$), which is a vector of two dimensional co-ordinates describing the location *i*. The Poisson model for geographically varying parameters can be written as:\n",
    "\n",
    "\\begin{align}\n",
    "O_i {\\sim} Poisson[E_i exp ({\\sum} {\\beta} & _k (u_i) x _{k,i})] \\\\\n",
    "\\end{align}\n",
    "\n",
    "The Geographically Weighted Poisson Regression model (GWPR) is estimated using a modified local Fisher scoring procedure, a form of iteratively reweighted least squares (IRLS). In this procedure, the following matrix computation of weighted least squares should be repeated to update parameter estimates until they converge (Nakaya et.al., 2005):\n",
    "\n",
    "\\begin{align}\n",
    "\\beta^{(l+1)} (u_i) = (X^{t} W (u_i) A(u_i)^{(l)} X)^{-1} X^{t} W (u_i) A (u_i) ^{(l)} z (u_i){(l)} \\\\\n",
    "\\end{align}"
   ]
  },
  {
   "cell_type": "markdown",
   "metadata": {},
   "source": [
    "# Approaches Explored"
   ]
  },
  {
   "cell_type": "markdown",
   "metadata": {},
   "source": [
    "**Expected theoretical model calibration:**<br><br>\n",
    "The calibration methodology for modeling response variables with a Poisson distribution in MGWR, through references from Geographically Weighted Poisson Regression (GWPR) (Nakaya, et al., 2005) and literature on Generalized Additive Models (Hastie & Tibshirani, 1986), is expected to be as follows:<br>\n"
   ]
  },
  {
   "cell_type": "markdown",
   "metadata": {},
   "source": [
    "1. Initialize using GWPR estimates $𝛽_𝑘(𝑢_𝑖)^0: f^1_0,f^2_0, … , f^𝐾_0, $ \n",
    "    where $f_𝑘^0 = (𝑥_{1 𝑘}𝛽_𝑘(𝑢_1)^0 … 𝑥_{𝑁𝑘}𝛽_𝑘(𝑢_𝑁)^0)$<br><br>\n",
    "2. Update for each location ($𝑢_𝑖$) an adjusted dependent variable: <br>\n",
    "    $z(𝑢_𝑖)^{(𝑙)} = (z_1(𝑢_𝑖)^{(𝑙)}, z_2(𝑢_𝑖)^{(𝑙)}, … ,z_𝑁(𝑢_𝑖)^{(𝑙)})^𝑡$<br> \n",
    "    $z_𝑗(𝑢_𝑖)^{(𝑙)} = Σ𝛽_𝑘(𝑢_𝑖)^{(𝑙)} 𝑥_{𝑗,𝑘} + O_𝑗 − Ô_𝑗(𝛽(𝑢_𝑖)^{(𝑙)}) / Ô_𝑗(𝛽(𝑢_𝑖)^{(𝑙)})$<br><br>\n",
    "3. Construct weights as follows:\n",
    "    $A(𝑢_𝑖)^{(𝑙)}$ which is a diagonal matrix with values ($Ô_1(𝛽(\n",
    "𝑢_𝑖)^{(𝑙)}), Ô_2(𝛽(\n",
    "𝑢_𝑖)^{(𝑙)}), ... ,Ô_𝑁(𝛽(𝑢_𝑖)^{(𝑙)}))$<br><br>\n",
    "4. Fit an MGWR model to $z(𝑢_𝑖)^{(𝑙)}$ to update $𝛽_𝑘(𝑢_𝑖)$ and $z(𝑢_𝑖)^{(𝑙)}$, using the new weight matrix:<br>\n",
    "$𝑊_𝑘∗(𝑢_𝑖)^{(𝑙)}=𝑊_𝑘(𝑢_𝑖)^{(𝑙)} A(𝑢_𝑖)^{(𝑙)}$<br><br>\n",
    "5. Repeat steps (2) through (4) until convergence."
   ]
  },
  {
   "cell_type": "markdown",
   "metadata": {},
   "source": [
    "# Other notebooks"
   ]
  },
  {
   "cell_type": "markdown",
   "metadata": {},
   "source": [
    "Below are links to the tests and exploration for the finalized MGWR model for Poisson dependent variables:"
   ]
  },
  {
   "cell_type": "markdown",
   "metadata": {},
   "source": [
    "## Tests with real and simulated data\n",
    "***"
   ]
  },
  {
   "cell_type": "markdown",
   "metadata": {},
   "source": [
    "**[Initial module changes and univariate model check ](http://mehak-sachdeva.github.io/MGWR_book/Html/Poisson_MGWR_univariate_check)**\n",
    "- Setup with libraries\n",
    "- Fundamental equations for Poisson MGWR\n",
    "- Example Dataset\n",
    "- Helper functions\n",
    "- Univariate example\n",
    "    - Parameter check\n",
    "    - Bandwidths check\n",
    "\n",
    "**[Simulated Data example](http://mehak-sachdeva.github.io/MGWR_book/Html/Simulated_data_example_Poisson-MGWR)**\n",
    "- Setup with libraries\n",
    "- Create Simulated Dataset\n",
    "    - Forming independent variables\n",
    "    - Creating y variable with Poisson distribution\n",
    "- Univariate example\n",
    "    - Bandwidth: Random initialization check\n",
    "    - Parameters check\n",
    "- Multivariate example\n",
    "    - Bandwidths: Random initialization check\n",
    "    - Parameters check\n",
    "- Global model parameter check\n",
    " \n",
    "**[Real Data example](http://mehak-sachdeva.github.io/MGWR_book/Html/Real_data_example_Poisson-MGWR)**\n",
    "\n",
    "- Setup with libraries\n",
    "- Tokyo Mortality Dataset\n",
    "- Univariate example\n",
    "    - Bandwidth: Random initialization check\n",
    "    - Parameter check\n",
    "- Multivariate example\n",
    "    Bandwidths: Random initialization check\n",
    "- MGWR bandwidths\n",
    "- AIC, AICc, BIC check\n"
   ]
  },
  {
   "cell_type": "markdown",
   "metadata": {},
   "source": [
    "## Monte Carlo Test\n",
    "***"
   ]
  },
  {
   "cell_type": "markdown",
   "metadata": {},
   "source": [
    "\n",
    "**[Monte Carlo Simulation Visualization](http://mehak-sachdeva.github.io/MGWR_book/Html/Poisson_MGWR_MonteCarlo_Results)**\n",
    " \n",
    "- Setup with libraries\n",
    "- List bandwidths from pickles\n",
    "- Parameter functions\n",
    "- GWR bandwidth\n",
    "- MGWR bandwidths\n",
    "- AIC, AICc, BIC check\n",
    "    - AIC, AICc, BIC Boxplots for comparison\n",
    "- Parameter comparison from MGWR and GWR"
   ]
  },
  {
   "cell_type": "markdown",
   "metadata": {},
   "source": [
    "# References"
   ]
  },
  {
   "cell_type": "markdown",
   "metadata": {},
   "source": [
    "1. Fotheringham, A. S., Yang, W., & Kang, W. (2017). Multiscale Geographically Weighted Regression (MGWR). Annals of the American Association of Geographers, 107(6), 1247–1265. https://doi.org/10.1080/24694452.2017.1352480\n",
    "\n",
    "\n",
    "2. Nakaya, T., Fotheringham, A. S., Brunsdon, C., & Charlton, M. (2005). Geographically weighted Poisson regression for disease association mapping. Statistics in Medicine, 24(17), 2695–2717. https://doi.org/10.1002/sim.2129\n",
    "\n",
    "\n",
    "3. Yu, H., Fotheringham, A. S., Li, Z., Oshan, T., Kang, W., & Wolf, L. J. (2019). Inference in Multiscale Geographically Weighted Regression. Geographical Analysis, gean.12189. https://doi.org/10.1111/gean.12189\n",
    "\n",
    "\n",
    "4. Hastie, T., & Tibshirani, R. (1986). Generalized Additive Models. Statistical Science, 1(3), 297–310. https://doi.org/10.1214/ss/1177013604\n",
    "\n",
    "\n",
    "5. Wood, S. N. (2006). Generalized additive models : an introduction with R. Chapman & Hall/CRC."
   ]
  },
  {
   "cell_type": "markdown",
   "metadata": {},
   "source": [
    "[Back to the main page](https://mehak-sachdeva.github.io/MGWR_book/)"
   ]
  }
 ],
 "metadata": {
  "kernelspec": {
   "display_name": "Python 3",
   "language": "python",
   "name": "python3"
  },
  "language_info": {
   "codemirror_mode": {
    "name": "ipython",
    "version": 3
   },
   "file_extension": ".py",
   "mimetype": "text/x-python",
   "name": "python",
   "nbconvert_exporter": "python",
   "pygments_lexer": "ipython3",
   "version": "3.6.6"
  }
 },
 "nbformat": 4,
 "nbformat_minor": 2
}
