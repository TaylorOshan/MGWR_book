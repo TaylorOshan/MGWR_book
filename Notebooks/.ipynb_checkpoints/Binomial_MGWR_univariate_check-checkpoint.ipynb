{
 "cells": [
  {
   "cell_type": "markdown",
   "metadata": {},
   "source": [
    "**Notebook Outline:**  \n",
    "  \n",
    "- [Setup with libraries](#Set-up-Cells)\n",
    "- [Fundamental equations for Poisson MGWR](#Fundamental-equations-for-Binomial-MGWR)\n",
    "- [Example Dataset](#Example-Dataset)\n",
    "- [Helper functions](#Helper-functions)\n",
    "- [Univariate example](#Univariate-example)\n",
    "    - [Parameter check](#Parameter-check)\n",
    "    - [Bandwidths check](#Bandwidths-check)"
   ]
  },
  {
   "cell_type": "markdown",
   "metadata": {},
   "source": [
    "### Set up Cells"
   ]
  },
  {
   "cell_type": "code",
   "execution_count": 1,
   "metadata": {},
   "outputs": [],
   "source": [
    "import sys\n",
    "sys.path.append(\"C:/Users/msachde1/Downloads/Research/Development/mgwr\")"
   ]
  },
  {
   "cell_type": "code",
   "execution_count": 2,
   "metadata": {},
   "outputs": [],
   "source": [
    "import warnings\n",
    "warnings.filterwarnings(\"ignore\")\n",
    "import pandas as pd\n",
    "import numpy as np\n",
    "\n",
    "from mgwr.gwr import GWR\n",
    "from spglm.family import Gaussian, Binomial, Poisson\n",
    "from mgwr.gwr import MGWR\n",
    "from mgwr.sel_bw import Sel_BW\n",
    "import multiprocessing as mp\n",
    "pool = mp.Pool()\n",
    "from scipy import linalg\n",
    "import numpy.linalg as la\n",
    "from scipy import sparse as sp\n",
    "from scipy.sparse import linalg as spla\n",
    "from spreg.utils import spdot, spmultiply\n",
    "from scipy import special\n",
    "import libpysal as ps\n",
    "import seaborn as sns\n",
    "import matplotlib.pyplot as plt\n",
    "from copy import deepcopy\n",
    "import copy\n",
    "from collections import namedtuple\n",
    "import spglm"
   ]
  },
  {
   "cell_type": "markdown",
   "metadata": {},
   "source": [
    "### Fundamental equations for Binomial MGWR"
   ]
  },
  {
   "cell_type": "markdown",
   "metadata": {},
   "source": [
    "\\begin{align}\n",
    "l = log_b ( p / (1-p)) = ({\\sum} {\\beta} & _k x _{k,i}) \\\\\n",
    "\\end{align}\n",
    "\n",
    "where  $x_{k,1}$ is the kth explanatory variable in place i, $𝛽_ks$ are the parameters and p is the probability such that p = P( Y = 1 ).\n",
    "\n",
    "By exponentiating the log-odds:\n",
    "\n",
    "$p / (1-p) = b^ {𝛽_0 + 𝛽_1 x_1 + 𝛽_2 x_2}$\n",
    "\n",
    "It follows from this - the probability that Y = 1 is:\n",
    "\n",
    "$p = (b^ {𝛽_0 + 𝛽_1 x_1 + 𝛽_2 x_2}) / (b^ {𝛽_0 + 𝛽_1 x_1 + 𝛽_2 x_2} + 1)$ = $1 / (1 + b^ {- 𝛽_0 + 𝛽_1 x_1 + 𝛽_2 x_2})$\n"
   ]
  },
  {
   "cell_type": "markdown",
   "metadata": {},
   "source": [
    "### Example Dataset"
   ]
  },
  {
   "cell_type": "markdown",
   "metadata": {},
   "source": [
    "#### Clearwater data - downloaded from link: https://sgsup.asu.edu/sparc/multiscale-gwr"
   ]
  },
  {
   "cell_type": "code",
   "execution_count": 3,
   "metadata": {
    "scrolled": true
   },
   "outputs": [],
   "source": [
    "data_p = pd.read_csv(\"C:/Users/msachde1/Downloads/logistic_mgwr_data/landslides.csv\") \n",
    "coords = list(zip(data_p['X'],data_p['Y']))\n",
    "y = np.array(data_p['Landslid']).reshape((-1,1)) \n",
    "elev = np.array(data_p['Elev']).reshape((-1,1))\n",
    "slope = np.array(data_p['Slope']).reshape((-1,1))\n",
    "SinAspct = np.array(data_p['SinAspct']).reshape(-1,1)\n",
    "CosAspct = np.array(data_p['CosAspct']).reshape(-1,1)\n",
    "X = np.hstack([elev,slope,SinAspct,CosAspct])\n",
    "x = slope\n",
    "\n",
    "X_std = (X-X.mean(axis=0))/X.std(axis=0)\n",
    "x_std = (x-x.mean(axis=0))/x.std(axis=0)\n",
    "y_std = (y-y.mean(axis=0))/y.std(axis=0)"
   ]
  },
  {
   "cell_type": "markdown",
   "metadata": {},
   "source": [
    "### Helper functions\n",
    "Hardcoded here for simplicity in the notebook workflow\n",
    "\n",
    "Please note: A separate bw_func_b will not be required when changes will be made in the repository"
   ]
  },
  {
   "cell_type": "code",
   "execution_count": 6,
   "metadata": {},
   "outputs": [],
   "source": [
    "kernel='bisquare'\n",
    "fixed=False\n",
    "spherical=False\n",
    "search_method='golden_section'\n",
    "criterion='AICc'\n",
    "interval=None\n",
    "tol=1e-06\n",
    "max_iter=200\n",
    "X_glob=[]"
   ]
  },
  {
   "cell_type": "code",
   "execution_count": 7,
   "metadata": {},
   "outputs": [],
   "source": [
    "def gwr_func(y, X, bw,family=Gaussian(),offset=None):\n",
    "    return GWR(coords, y, X, bw, family,offset,kernel=kernel,\n",
    "               fixed=fixed, constant=False,\n",
    "               spherical=spherical, hat_matrix=False).fit(\n",
    "                   lite=True, pool=pool)\n",
    "\n",
    "\n",
    "def bw_func_b(coords,y, X):\n",
    "    selector = Sel_BW(coords,y, X,family=Binomial(),offset=None, X_glob=[],\n",
    "                      kernel=kernel, fixed=fixed,\n",
    "                      constant=False, spherical=spherical)\n",
    "    return selector\n",
    "\n",
    "def bw_func_p(coords,y, X):\n",
    "    selector = Sel_BW(coords,y, X,family=Poisson(),offset=off, X_glob=[],\n",
    "                      kernel=kernel, fixed=fixed,\n",
    "                      constant=False, spherical=spherical)\n",
    "    return selector\n",
    "\n",
    "def bw_func(coords,y,X):\n",
    "    selector = Sel_BW(coords,y,X,X_glob=[],\n",
    "                      kernel=kernel, fixed=fixed,\n",
    "                      constant=False, spherical=spherical)\n",
    "    return selector\n",
    "\n",
    "def sel_func(bw_func, bw_min=None, bw_max=None):\n",
    "    return bw_func.search(\n",
    "        search_method=search_method, criterion=criterion,\n",
    "        bw_min=bw_min, bw_max=bw_max, interval=interval, tol=tol,\n",
    "        max_iter=max_iter, pool=pool, verbose=False)"
   ]
  },
  {
   "cell_type": "markdown",
   "metadata": {},
   "source": [
    "### Univariate example\n",
    "#### GWR model with independent variable, x = slope"
   ]
  },
  {
   "cell_type": "code",
   "execution_count": 14,
   "metadata": {},
   "outputs": [],
   "source": [
    "bw_gwbr=Sel_BW(coords,y_std,x_std,family=Binomial(),constant=False).search()"
   ]
  },
  {
   "cell_type": "code",
   "execution_count": 15,
   "metadata": {},
   "outputs": [],
   "source": [
    "gwbr_model=GWR(coords,y_std,x_std,bw=bw_gwbr,family=Binomial(),constant=False).fit()"
   ]
  },
  {
   "cell_type": "code",
   "execution_count": 16,
   "metadata": {},
   "outputs": [
    {
     "data": {
      "text/plain": [
       "198.0"
      ]
     },
     "execution_count": 16,
     "metadata": {},
     "output_type": "execute_result"
    }
   ],
   "source": [
    "bw_gwbr"
   ]
  },
  {
   "cell_type": "markdown",
   "metadata": {},
   "source": [
    "#### MGWR Binomial loop with one independent variable, x = slope"
   ]
  },
  {
   "cell_type": "markdown",
   "metadata": {},
   "source": [
    "##### Edited multi_bw function - original function in https://github.com/pysal/mgwr/blob/master/mgwr/search.py#L167"
   ]
  },
  {
   "cell_type": "code",
   "execution_count": 17,
   "metadata": {},
   "outputs": [],
   "source": [
    "def multi_bw(init,coords,y, X, n, k, family=Gaussian(),offset=None, tol=1e-06, max_iter=200, multi_bw_min=[None], multi_bw_max=[None],rss_score=False,bws_same_times=3,\n",
    "                     verbose=False):\n",
    "    \n",
    "    if multi_bw_min==[None]:\n",
    "        multi_bw_min = multi_bw_min*X.shape[1]\n",
    "    \n",
    "    if multi_bw_max==[None]:\n",
    "        multi_bw_max = multi_bw_max*X.shape[1]\n",
    "        \n",
    "    if isinstance(family,spglm.family.Poisson):\n",
    "        bw = sel_func(bw_func_p(coords,y,X))\n",
    "        optim_model=gwr_func(y,X,bw,family=Poisson(),offset=offset)\n",
    "        err = optim_model.resid_response.reshape((-1, 1))\n",
    "        param = optim_model.params\n",
    "        #This change for the Poisson model follows from equation (1) above\n",
    "        XB = offset*np.exp(np.multiply(param, X))\n",
    "    \n",
    "    elif isinstance(family,spglm.family.Binomial):\n",
    "        bw = sel_func(bw_func_b(coords,y,X))\n",
    "        optim_model=gwr_func(y,X,bw,family=Binomial())\n",
    "        err = optim_model.resid_response.reshape((-1, 1))\n",
    "        param = optim_model.params\n",
    "        #This change for the Binomial model follows from equation above\n",
    "        XB = 1/(1+np.exp(-1*np.multiply(optim_model.params,X)))\n",
    "        #print(XB)\n",
    "\n",
    "        \n",
    "    else:\n",
    "        bw=sel_func(bw_func(coords,y,X))\n",
    "        optim_model=gwr_func(y,X,bw)\n",
    "        err = optim_model.resid_response.reshape((-1, 1))\n",
    "        param = optim_model.params\n",
    "        XB = np.multiply(param, X)\n",
    "        \n",
    "    bw_gwr = bw\n",
    "    XB=XB\n",
    "    \n",
    "    if rss_score:\n",
    "        rss = np.sum((err)**2)\n",
    "    iters = 0\n",
    "    scores = []\n",
    "    delta = 1e6\n",
    "    BWs = []\n",
    "    bw_stable_counter = np.ones(k)\n",
    "    bws = np.empty(k)\n",
    "\n",
    "    try:\n",
    "        from tqdm.auto import tqdm  #if they have it, let users have a progress bar\n",
    "    except ImportError:\n",
    "\n",
    "        def tqdm(x, desc=''):  #otherwise, just passthrough the range\n",
    "            return x\n",
    "\n",
    "    for iters in tqdm(range(1, max_iter + 1), desc='Backfitting'):\n",
    "        new_XB = np.zeros_like(X)\n",
    "        params = np.zeros_like(X)\n",
    "\n",
    "        for j in range(k):\n",
    "            temp_y = XB[:, j].reshape((-1, 1))\n",
    "            temp_y = temp_y + err\n",
    "            temp_X = X[:, j].reshape((-1, 1))\n",
    "            \n",
    "            #The step below will not be necessary once the bw_func is changed in the repo to accept family and offset as attributes\n",
    "            if isinstance(family,spglm.family.Poisson):\n",
    "\n",
    "                bw_class = bw_func_p(coords,temp_y, temp_X)\n",
    "                \n",
    "            elif isinstance(family,spglm.family.Binomial):\n",
    "                \n",
    "                bw_class = bw_func_b(coords,temp_y, temp_X)\n",
    "\n",
    "\n",
    "                \n",
    "            else:\n",
    "                bw_class = bw_func(coords,temp_y, temp_X)\n",
    "\n",
    "\n",
    "            if np.all(bw_stable_counter == bws_same_times):\n",
    "                #If in backfitting, all bws not changing in bws_same_times (default 3) iterations\n",
    "                bw = bws[j]\n",
    "            else:\n",
    "                bw = sel_func(bw_class, multi_bw_min[j], multi_bw_max[j])\n",
    "                if bw == bws[j]:\n",
    "                    bw_stable_counter[j] += 1\n",
    "                else:\n",
    "                    bw_stable_counter = np.ones(k)\n",
    "\n",
    "            #Changed gwr_func to accept family and offset as attributes\n",
    "            optim_model = gwr_func(temp_y, temp_X, bw,family,offset)\n",
    "            err = optim_model.resid_response.reshape((-1, 1))\n",
    "            param = optim_model.params.reshape((-1, ))\n",
    "            new_XB[:, j] = optim_model.predy.reshape(-1)\n",
    "            params[:, j] = param\n",
    "            bws[j] = bw\n",
    "\n",
    "        num = np.sum((new_XB - XB)**2) / n\n",
    "        den = np.sum(np.sum(new_XB, axis=1)**2)\n",
    "        score = (num / den)**0.5\n",
    "        XB = new_XB\n",
    "\n",
    "        if rss_score:\n",
    "            predy = np.sum(np.multiply(params, X), axis=1).reshape((-1, 1))\n",
    "            new_rss = np.sum((y - predy)**2)\n",
    "            score = np.abs((new_rss - rss) / new_rss)\n",
    "            rss = new_rss\n",
    "        scores.append(deepcopy(score))\n",
    "        delta = score\n",
    "        BWs.append(deepcopy(bws))\n",
    "\n",
    "        if verbose:\n",
    "            print(\"Current iteration:\", iters, \",SOC:\", np.round(score, 7))\n",
    "            print(\"Bandwidths:\", ', '.join([str(bw) for bw in bws]))\n",
    "\n",
    "        if delta < tol:\n",
    "            break\n",
    "            \n",
    "    print(\"iters = \"+str(iters))\n",
    "    opt_bws = BWs[-1]\n",
    "    print(\"opt_bws = \"+str(opt_bws))\n",
    "    return (opt_bws, np.array(BWs), np.array(scores), params, err, bw_gwr)"
   ]
  },
  {
   "cell_type": "markdown",
   "metadata": {},
   "source": [
    "##### Running the function with family = Binomial()"
   ]
  },
  {
   "cell_type": "code",
   "execution_count": 18,
   "metadata": {},
   "outputs": [
    {
     "name": "stdout",
     "output_type": "stream",
     "text": [
      "iters = 1\n",
      "opt_bws = [198.]\n"
     ]
    }
   ],
   "source": [
    "bw_mgwbr = multi_bw(init=None,coords=coords,y=y_std, X=x_std, n=239, k=x.shape[1], family=Binomial())"
   ]
  },
  {
   "cell_type": "markdown",
   "metadata": {},
   "source": [
    "##### Running without family and offset attributes runs the normal MGWR loop"
   ]
  },
  {
   "cell_type": "code",
   "execution_count": 18,
   "metadata": {},
   "outputs": [
    {
     "name": "stdout",
     "output_type": "stream",
     "text": [
      "iters = 1\n",
      "opt_bws = [125.]\n"
     ]
    }
   ],
   "source": [
    "bw_mgwr = multi_bw(init=None, coords=coords,y=y_std, X=x_std, n=262, k=x.shape[1])"
   ]
  },
  {
   "cell_type": "markdown",
   "metadata": {},
   "source": [
    "### Parameter check"
   ]
  },
  {
   "cell_type": "markdown",
   "metadata": {},
   "source": [
    "#### Difference in parameters from the GWR - Binomial model and MGWR Binomial model"
   ]
  },
  {
   "cell_type": "code",
   "execution_count": 21,
   "metadata": {},
   "outputs": [
    {
     "data": {
      "text/plain": [
       "True"
      ]
     },
     "execution_count": 21,
     "metadata": {},
     "output_type": "execute_result"
    }
   ],
   "source": [
    "(bw_mgwbr[3]==gwbr_model.params).all()"
   ]
  },
  {
   "cell_type": "markdown",
   "metadata": {},
   "source": [
    "The parameters are identical"
   ]
  },
  {
   "cell_type": "markdown",
   "metadata": {},
   "source": [
    "### Bandwidths check"
   ]
  },
  {
   "cell_type": "code",
   "execution_count": 22,
   "metadata": {},
   "outputs": [
    {
     "data": {
      "text/plain": [
       "235.0"
      ]
     },
     "execution_count": 22,
     "metadata": {},
     "output_type": "execute_result"
    }
   ],
   "source": [
    "bw_gwbr"
   ]
  },
  {
   "cell_type": "code",
   "execution_count": 23,
   "metadata": {},
   "outputs": [
    {
     "data": {
      "text/plain": [
       "array([235.])"
      ]
     },
     "execution_count": 23,
     "metadata": {},
     "output_type": "execute_result"
    }
   ],
   "source": [
    "bw_mgwbr[0]"
   ]
  },
  {
   "cell_type": "markdown",
   "metadata": {},
   "source": [
    "The bandwidth from both models is the same"
   ]
  }
 ],
 "metadata": {
  "kernelspec": {
   "display_name": "Python 3",
   "language": "python",
   "name": "python3"
  },
  "language_info": {
   "codemirror_mode": {
    "name": "ipython",
    "version": 3
   },
   "file_extension": ".py",
   "mimetype": "text/x-python",
   "name": "python",
   "nbconvert_exporter": "python",
   "pygments_lexer": "ipython3",
   "version": "3.6.6"
  }
 },
 "nbformat": 4,
 "nbformat_minor": 2
}
