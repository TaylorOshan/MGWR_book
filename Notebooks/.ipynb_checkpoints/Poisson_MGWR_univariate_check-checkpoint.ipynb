{
 "cells": [
  {
   "cell_type": "markdown",
   "metadata": {},
   "source": [
    "**Notebook Outline:**  \n",
    "  \n",
    "- [Setup with libraries](#Set-up-Cells)\n",
    "- [Fundamental equations for Poisson MGWR](#Fundamental-equations-for-Poisson-MGWR)\n",
    "- [Example Dataset](#Example-Dataset)\n",
    "- [Helper functions](#Helper-functions)\n",
    "- [Univariate example](#Univariate-example)\n",
    "    - [Parameter check](#Parameter-check)\n",
    "    - [Bandwidths check](#Bandwidths-check)"
   ]
  },
  {
   "cell_type": "markdown",
   "metadata": {},
   "source": [
    "### Set up Cells"
   ]
  },
  {
   "cell_type": "code",
   "execution_count": 1,
   "metadata": {},
   "outputs": [],
   "source": [
    "import sys\n",
    "sys.path.append(\"C:/Users/msachde1/Downloads/Research/Development/mgwr\")"
   ]
  },
  {
   "cell_type": "code",
   "execution_count": 2,
   "metadata": {},
   "outputs": [],
   "source": [
    "import warnings\n",
    "warnings.filterwarnings(\"ignore\")\n",
    "import pandas as pd\n",
    "import numpy as np\n",
    "\n",
    "from mgwr.gwr import GWR\n",
    "from spglm.family import Gaussian, Binomial, Poisson\n",
    "from mgwr.gwr import MGWR\n",
    "from mgwr.sel_bw import Sel_BW\n",
    "import multiprocessing as mp\n",
    "pool = mp.Pool()\n",
    "from scipy import linalg\n",
    "import numpy.linalg as la\n",
    "from scipy import sparse as sp\n",
    "from scipy.sparse import linalg as spla\n",
    "from spreg.utils import spdot, spmultiply\n",
    "from scipy import special\n",
    "import libpysal as ps\n",
    "import seaborn as sns\n",
    "import matplotlib.pyplot as plt\n",
    "from copy import deepcopy\n",
    "import copy\n",
    "from collections import namedtuple\n",
    "import spglm"
   ]
  },
  {
   "cell_type": "markdown",
   "metadata": {},
   "source": [
    "### Fundamental equations for Poisson MGWR "
   ]
  },
  {
   "cell_type": "markdown",
   "metadata": {},
   "source": [
    "\\begin{align}\n",
    "y = Poisson[E_i exp ({\\sum} {\\beta} & _k x _{k,i})]   - (1) \\\\\n",
    "E_i = Offset   - (2) \\\\\n",
    "\\hat{y} = predicted(y)   - (3) \\\\\n",
    "z = ({\\sum} {\\beta} & _k x _{k,i}) + ((y - \\hat{y})/\\hat{y})   - (4) \\\\\n",
    "\\end{align}"
   ]
  },
  {
   "cell_type": "markdown",
   "metadata": {},
   "source": [
    "### Example Dataset"
   ]
  },
  {
   "cell_type": "code",
   "execution_count": 3,
   "metadata": {},
   "outputs": [],
   "source": [
    "data_p = ps.io.open(ps.examples.get_path('Tokyomortality.csv'))\n",
    "coords = list(zip(data_p.by_col('X_CENTROID'),data_p.by_col('Y_CENTROID')))\n",
    "off = np.array(data_p.by_col('eb2564')).reshape((-1,1))\n",
    "y = np.array(data_p.by_col('db2564')).reshape((-1,1)) \n",
    "occ = np.array(data_p.by_col('OCC_TEC')).reshape((-1,1))\n",
    "own = np.array(data_p.by_col('OWNH')).reshape((-1,1))\n",
    "pop = np.array(data_p.by_col('POP65')).reshape((-1,1))\n",
    "unemp = np.array(data_p.by_col('UNEMP')).reshape((-1,1))\n",
    "X = np.hstack([occ,own,pop,unemp])\n",
    "x = unemp\n",
    "\n",
    "X_std = (X-X.mean(axis=0))/X.std(axis=0)\n",
    "x_std = (x-x.mean(axis=0))/x.std(axis=0)\n",
    "y_std = (y-y.mean(axis=0))/y.std(axis=0)"
   ]
  },
  {
   "cell_type": "markdown",
   "metadata": {},
   "source": [
    "### Helper functions\n",
    "Hardcoded here for simplicity in the notebook workflow\n",
    "\n",
    "Please note: A separate bw_func_p will not be required when changes will be made in the repository"
   ]
  },
  {
   "cell_type": "code",
   "execution_count": 5,
   "metadata": {},
   "outputs": [],
   "source": [
    "kernel='bisquare'\n",
    "fixed=False\n",
    "spherical=False\n",
    "search_method='golden_section'\n",
    "criterion='AICc'\n",
    "interval=None\n",
    "tol=1e-06\n",
    "max_iter=200\n",
    "X_glob=[]"
   ]
  },
  {
   "cell_type": "code",
   "execution_count": 6,
   "metadata": {},
   "outputs": [],
   "source": [
    "def gwr_func(y, X, bw,family=Gaussian(),offset=None):\n",
    "    return GWR(coords, y, X, bw, family,offset,kernel=kernel,\n",
    "               fixed=fixed, constant=False,\n",
    "               spherical=spherical, hat_matrix=False).fit(\n",
    "                   lite=True, pool=pool)\n",
    "\n",
    "def bw_func_p(coords,y, X):\n",
    "    selector = Sel_BW(coords,y, X,family=Poisson(),offset=off, X_glob=[],\n",
    "                      kernel=kernel, fixed=fixed,\n",
    "                      constant=False, spherical=spherical)\n",
    "    return selector\n",
    "\n",
    "def bw_func(coords,y,X):\n",
    "    selector = Sel_BW(coords,y,X,X_glob=[],\n",
    "                      kernel=kernel, fixed=fixed,\n",
    "                      constant=False, spherical=spherical)\n",
    "    return selector\n",
    "\n",
    "def sel_func(bw_func, bw_min=None, bw_max=None):\n",
    "    return bw_func.search(\n",
    "        search_method=search_method, criterion=criterion,\n",
    "        bw_min=bw_min, bw_max=bw_max, interval=interval, tol=tol,\n",
    "        max_iter=max_iter, pool=pool, verbose=False)"
   ]
  },
  {
   "cell_type": "markdown",
   "metadata": {},
   "source": [
    "### Univariate example\n",
    "#### GWPR model with independent variable, x = unemployment"
   ]
  },
  {
   "cell_type": "code",
   "execution_count": 7,
   "metadata": {},
   "outputs": [],
   "source": [
    "bw_gwpr=Sel_BW(coords,y_std,x_std,family=Poisson(),offset=off,constant=False).search()"
   ]
  },
  {
   "cell_type": "code",
   "execution_count": 8,
   "metadata": {},
   "outputs": [],
   "source": [
    "gwpr_model=GWR(coords,y_std,x_std,bw=bw_gwpr,family=Poisson(),offset=off,constant=False).fit()"
   ]
  },
  {
   "cell_type": "markdown",
   "metadata": {},
   "source": [
    "#### MGWR Poisson loop with one independent variable, x = unemployment"
   ]
  },
  {
   "cell_type": "markdown",
   "metadata": {},
   "source": [
    "##### Edited multi_bw function - original function in https://github.com/pysal/mgwr/blob/master/mgwr/search.py#L167"
   ]
  },
  {
   "cell_type": "code",
   "execution_count": 9,
   "metadata": {},
   "outputs": [],
   "source": [
    "def multi_bw(init,coords,y, X, n, k, family=Gaussian(),offset=None, tol=1e-06, max_iter=200, multi_bw_min=[None], multi_bw_max=[None],rss_score=False,bws_same_times=3,\n",
    "                     verbose=False):\n",
    "    \n",
    "    if isinstance(family,spglm.family.Poisson):\n",
    "        bw = sel_func(bw_func_p(coords,y,X))\n",
    "        optim_model=gwr_func(y,X,bw,family=Poisson(),offset=offset)\n",
    "        err = optim_model.resid_response.reshape((-1, 1))\n",
    "        param = optim_model.params\n",
    "        #This change for the Poisson model follows from equation (1) above\n",
    "        XB = offset*np.exp(np.multiply(param, X))\n",
    "        \n",
    "    else:\n",
    "        bw=sel_func(bw_func(coords,y,X))\n",
    "        optim_model=gwr_func(y,X,bw)\n",
    "        err = optim_model.resid_response.reshape((-1, 1))\n",
    "        param = optim_model.params\n",
    "        XB = np.multiply(param, X)\n",
    "        \n",
    "    bw_gwr = bw\n",
    "    XB=XB\n",
    "    \n",
    "    if rss_score:\n",
    "        rss = np.sum((err)**2)\n",
    "    iters = 0\n",
    "    scores = []\n",
    "    delta = 1e6\n",
    "    BWs = []\n",
    "    bw_stable_counter = np.ones(k)\n",
    "    bws = np.empty(k)\n",
    "\n",
    "    try:\n",
    "        from tqdm.auto import tqdm  #if they have it, let users have a progress bar\n",
    "    except ImportError:\n",
    "\n",
    "        def tqdm(x, desc=''):  #otherwise, just passthrough the range\n",
    "            return x\n",
    "\n",
    "    for iters in tqdm(range(1, max_iter + 1), desc='Backfitting'):\n",
    "        new_XB = np.zeros_like(X)\n",
    "        params = np.zeros_like(X)\n",
    "\n",
    "        for j in range(k):\n",
    "            temp_y = XB[:, j].reshape((-1, 1))\n",
    "            temp_y = temp_y + err\n",
    "            temp_X = X[:, j].reshape((-1, 1))\n",
    "            \n",
    "            #The step below will not be necessary once the bw_func is changed in the repo to accept family and offset as attributes\n",
    "            if isinstance(family,spglm.family.Poisson):\n",
    "\n",
    "                bw_class = bw_func_p(coords,temp_y, temp_X)\n",
    "                \n",
    "            else:\n",
    "                bw_class = bw_func(coords,temp_y, temp_X)\n",
    "\n",
    "\n",
    "            if np.all(bw_stable_counter == bws_same_times):\n",
    "                #If in backfitting, all bws not changing in bws_same_times (default 3) iterations\n",
    "                bw = bws[j]\n",
    "            else:\n",
    "                bw = sel_func(bw_class, multi_bw_min[j], multi_bw_max[j])\n",
    "                if bw == bws[j]:\n",
    "                    bw_stable_counter[j] += 1\n",
    "                else:\n",
    "                    bw_stable_counter = np.ones(k)\n",
    "\n",
    "            #Changed gwr_func to accept family and offset as attributes\n",
    "            optim_model = gwr_func(temp_y, temp_X, bw,family,offset)\n",
    "            err = optim_model.resid_response.reshape((-1, 1))\n",
    "            param = optim_model.params.reshape((-1, ))\n",
    "            new_XB[:, j] = optim_model.predy.reshape(-1)\n",
    "            params[:, j] = param\n",
    "            bws[j] = bw\n",
    "\n",
    "        num = np.sum((new_XB - XB)**2) / n\n",
    "        den = np.sum(np.sum(new_XB, axis=1)**2)\n",
    "        score = (num / den)**0.5\n",
    "        XB = new_XB\n",
    "\n",
    "        if rss_score:\n",
    "            predy = np.sum(np.multiply(params, X), axis=1).reshape((-1, 1))\n",
    "            new_rss = np.sum((y - predy)**2)\n",
    "            score = np.abs((new_rss - rss) / new_rss)\n",
    "            rss = new_rss\n",
    "        scores.append(deepcopy(score))\n",
    "        delta = score\n",
    "        BWs.append(deepcopy(bws))\n",
    "\n",
    "        if verbose:\n",
    "            print(\"Current iteration:\", iters, \",SOC:\", np.round(score, 7))\n",
    "            print(\"Bandwidths:\", ', '.join([str(bw) for bw in bws]))\n",
    "\n",
    "        if delta < tol:\n",
    "            break\n",
    "            \n",
    "    print(\"iters = \"+str(iters))\n",
    "    opt_bws = BWs[-1]\n",
    "    print(\"opt_bws = \"+str(opt_bws))\n",
    "    return (opt_bws, np.array(BWs), np.array(scores), params, err, bw_gwr)"
   ]
  },
  {
   "cell_type": "markdown",
   "metadata": {},
   "source": [
    "##### Running the function with family = Poisson() and offset"
   ]
  },
  {
   "cell_type": "code",
   "execution_count": 10,
   "metadata": {},
   "outputs": [
    {
     "name": "stdout",
     "output_type": "stream",
     "text": [
      "iters = 2\n",
      "opt_bws = [178.]\n"
     ]
    }
   ],
   "source": [
    "bw_mgwpr = multi_bw(init=None,coords=coords,y=y_std, X=x_std, n=262, k=x.shape[1], family=Poisson(),offset=off)"
   ]
  },
  {
   "cell_type": "markdown",
   "metadata": {},
   "source": [
    "##### Running without family and offset attributes runs the normal MGWR loop"
   ]
  },
  {
   "cell_type": "code",
   "execution_count": 11,
   "metadata": {},
   "outputs": [
    {
     "name": "stdout",
     "output_type": "stream",
     "text": [
      "iters = 1\n",
      "opt_bws = [73.]\n"
     ]
    }
   ],
   "source": [
    "bw_mgwr = multi_bw(init=None,coords=coords,y=y_std, X=x_std, n=262, k=x.shape[1])"
   ]
  },
  {
   "cell_type": "markdown",
   "metadata": {},
   "source": [
    "### Parameter check"
   ]
  },
  {
   "cell_type": "markdown",
   "metadata": {},
   "source": [
    "#### Difference in parameters from the GWPR model and MGWPR model"
   ]
  },
  {
   "cell_type": "code",
   "execution_count": 12,
   "metadata": {},
   "outputs": [
    {
     "data": {
      "text/plain": [
       "array([1.89357983e-05])"
      ]
     },
     "execution_count": 12,
     "metadata": {},
     "output_type": "execute_result"
    }
   ],
   "source": [
    "max(bw_mgwpr[3]-gwpr_model.params)"
   ]
  },
  {
   "cell_type": "markdown",
   "metadata": {},
   "source": [
    "The parameters are not identical but the maximum difference in the parameters is to the order of 1e-05 "
   ]
  },
  {
   "cell_type": "markdown",
   "metadata": {},
   "source": [
    "### Bandwidths check"
   ]
  },
  {
   "cell_type": "code",
   "execution_count": 13,
   "metadata": {},
   "outputs": [
    {
     "data": {
      "text/plain": [
       "178.0"
      ]
     },
     "execution_count": 13,
     "metadata": {},
     "output_type": "execute_result"
    }
   ],
   "source": [
    "bw_gwpr"
   ]
  },
  {
   "cell_type": "code",
   "execution_count": 14,
   "metadata": {},
   "outputs": [
    {
     "data": {
      "text/plain": [
       "array([178.])"
      ]
     },
     "execution_count": 14,
     "metadata": {},
     "output_type": "execute_result"
    }
   ],
   "source": [
    "bw_mgwpr[0]"
   ]
  },
  {
   "cell_type": "markdown",
   "metadata": {},
   "source": [
    "Bandwidths from both models is the same"
   ]
  }
 ],
 "metadata": {
  "kernelspec": {
   "display_name": "Python 3",
   "language": "python",
   "name": "python3"
  },
  "language_info": {
   "codemirror_mode": {
    "name": "ipython",
    "version": 3
   },
   "file_extension": ".py",
   "mimetype": "text/x-python",
   "name": "python",
   "nbconvert_exporter": "python",
   "pygments_lexer": "ipython3",
   "version": "3.6.6"
  }
 },
 "nbformat": 4,
 "nbformat_minor": 2
}
