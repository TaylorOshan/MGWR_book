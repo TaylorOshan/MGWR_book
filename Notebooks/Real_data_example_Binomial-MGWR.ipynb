{
 "cells": [
  {
   "cell_type": "markdown",
   "metadata": {},
   "source": [
    "**Notebook Outline:**  \n",
    "  \n",
    "- [Setup with libraries](#Set-up-Cells)\n",
    "- [Clearwater Landslides Dataset](#Clearwater-Landslides-Dataset)\n",
    "- [Univariate example](#Univariate-example)\n",
    "    - [Bandwidth check](#Bandwidth-check)\n",
    "    - [Parameter check](#Parameter-check)\n",
    "- [Multivariate example](#Multivariate-example)\n",
    "    - [Bandwidths check](#Bandwidths-check)\n",
    "    - [AIC, AICc, BIC check](#AIC,-AICc,-BIC-check)\n",
    "- [Global model check](#Global-model-check)"
   ]
  },
  {
   "cell_type": "markdown",
   "metadata": {},
   "source": [
    "### Set up Cells"
   ]
  },
  {
   "cell_type": "code",
   "execution_count": 1,
   "metadata": {},
   "outputs": [],
   "source": [
    "import sys\n",
    "sys.path.append(\"C:/Users/msachde1/Downloads/Research/Development/mgwr\")"
   ]
  },
  {
   "cell_type": "code",
   "execution_count": 2,
   "metadata": {},
   "outputs": [],
   "source": [
    "import warnings\n",
    "warnings.filterwarnings(\"ignore\")\n",
    "import pandas as pd\n",
    "import numpy as np\n",
    "\n",
    "from mgwr.gwr import GWR\n",
    "from spglm.family import Gaussian, Binomial, Poisson\n",
    "from mgwr.gwr import MGWR\n",
    "from mgwr.sel_bw import Sel_BW\n",
    "import multiprocessing as mp\n",
    "pool = mp.Pool()\n",
    "from scipy import linalg\n",
    "import numpy.linalg as la\n",
    "from scipy import sparse as sp\n",
    "from scipy.sparse import linalg as spla\n",
    "from spreg.utils import spdot, spmultiply\n",
    "from scipy import special\n",
    "import libpysal as ps\n",
    "import seaborn as sns\n",
    "import matplotlib.pyplot as plt\n",
    "from copy import deepcopy\n",
    "import copy\n",
    "from collections import namedtuple\n",
    "import spglm"
   ]
  },
  {
   "cell_type": "markdown",
   "metadata": {},
   "source": [
    "### Clearwater Landslides Dataset"
   ]
  },
  {
   "cell_type": "markdown",
   "metadata": {},
   "source": [
    "#### Clearwater data - downloaded from link: https://sgsup.asu.edu/sparc/multiscale-gwr"
   ]
  },
  {
   "cell_type": "code",
   "execution_count": 3,
   "metadata": {
    "scrolled": true
   },
   "outputs": [],
   "source": [
    "data_p = pd.read_csv(\"C:/Users/msachde1/Downloads/logistic_mgwr_data/landslides.csv\") "
   ]
  },
  {
   "cell_type": "code",
   "execution_count": 4,
   "metadata": {},
   "outputs": [
    {
     "data": {
      "text/html": [
       "<div>\n",
       "<style scoped>\n",
       "    .dataframe tbody tr th:only-of-type {\n",
       "        vertical-align: middle;\n",
       "    }\n",
       "\n",
       "    .dataframe tbody tr th {\n",
       "        vertical-align: top;\n",
       "    }\n",
       "\n",
       "    .dataframe thead th {\n",
       "        text-align: right;\n",
       "    }\n",
       "</style>\n",
       "<table border=\"1\" class=\"dataframe\">\n",
       "  <thead>\n",
       "    <tr style=\"text-align: right;\">\n",
       "      <th></th>\n",
       "      <th>UserID</th>\n",
       "      <th>X</th>\n",
       "      <th>Y</th>\n",
       "      <th>Elev</th>\n",
       "      <th>Slope</th>\n",
       "      <th>SinAspct</th>\n",
       "      <th>CosAspct</th>\n",
       "      <th>AbsSouth</th>\n",
       "      <th>Landslid</th>\n",
       "      <th>DistStrm</th>\n",
       "    </tr>\n",
       "  </thead>\n",
       "  <tbody>\n",
       "    <tr>\n",
       "      <th>0</th>\n",
       "      <td>1</td>\n",
       "      <td>616168.5625</td>\n",
       "      <td>5201076.5</td>\n",
       "      <td>1450.475</td>\n",
       "      <td>27.44172</td>\n",
       "      <td>0.409126</td>\n",
       "      <td>-0.912478</td>\n",
       "      <td>24.1499</td>\n",
       "      <td>1</td>\n",
       "      <td>8.506</td>\n",
       "    </tr>\n",
       "    <tr>\n",
       "      <th>1</th>\n",
       "      <td>2</td>\n",
       "      <td>624923.8125</td>\n",
       "      <td>5201008.5</td>\n",
       "      <td>1567.476</td>\n",
       "      <td>21.88343</td>\n",
       "      <td>-0.919245</td>\n",
       "      <td>-0.393685</td>\n",
       "      <td>66.8160</td>\n",
       "      <td>1</td>\n",
       "      <td>15.561</td>\n",
       "    </tr>\n",
       "    <tr>\n",
       "      <th>2</th>\n",
       "      <td>3</td>\n",
       "      <td>615672.0000</td>\n",
       "      <td>5199187.5</td>\n",
       "      <td>1515.065</td>\n",
       "      <td>38.81030</td>\n",
       "      <td>-0.535024</td>\n",
       "      <td>-0.844837</td>\n",
       "      <td>32.3455</td>\n",
       "      <td>1</td>\n",
       "      <td>41.238</td>\n",
       "    </tr>\n",
       "    <tr>\n",
       "      <th>3</th>\n",
       "      <td>4</td>\n",
       "      <td>615209.3125</td>\n",
       "      <td>5199112.0</td>\n",
       "      <td>1459.827</td>\n",
       "      <td>26.71631</td>\n",
       "      <td>-0.828548</td>\n",
       "      <td>-0.559918</td>\n",
       "      <td>55.9499</td>\n",
       "      <td>1</td>\n",
       "      <td>17.539</td>\n",
       "    </tr>\n",
       "    <tr>\n",
       "      <th>4</th>\n",
       "      <td>5</td>\n",
       "      <td>616354.6875</td>\n",
       "      <td>5198945.5</td>\n",
       "      <td>1379.442</td>\n",
       "      <td>27.55271</td>\n",
       "      <td>-0.872281</td>\n",
       "      <td>-0.489005</td>\n",
       "      <td>60.7248</td>\n",
       "      <td>1</td>\n",
       "      <td>35.023</td>\n",
       "    </tr>\n",
       "  </tbody>\n",
       "</table>\n",
       "</div>"
      ],
      "text/plain": [
       "   UserID            X          Y      Elev     Slope  SinAspct  CosAspct  \\\n",
       "0       1  616168.5625  5201076.5  1450.475  27.44172  0.409126 -0.912478   \n",
       "1       2  624923.8125  5201008.5  1567.476  21.88343 -0.919245 -0.393685   \n",
       "2       3  615672.0000  5199187.5  1515.065  38.81030 -0.535024 -0.844837   \n",
       "3       4  615209.3125  5199112.0  1459.827  26.71631 -0.828548 -0.559918   \n",
       "4       5  616354.6875  5198945.5  1379.442  27.55271 -0.872281 -0.489005   \n",
       "\n",
       "   AbsSouth  Landslid  DistStrm  \n",
       "0   24.1499         1     8.506  \n",
       "1   66.8160         1    15.561  \n",
       "2   32.3455         1    41.238  \n",
       "3   55.9499         1    17.539  \n",
       "4   60.7248         1    35.023  "
      ]
     },
     "execution_count": 4,
     "metadata": {},
     "output_type": "execute_result"
    }
   ],
   "source": [
    "data_p.head()"
   ]
  },
  {
   "cell_type": "markdown",
   "metadata": {},
   "source": [
    "### Univariate example"
   ]
  },
  {
   "cell_type": "markdown",
   "metadata": {},
   "source": [
    "#### GWR Binomial model with independent variable, x = slope"
   ]
  },
  {
   "cell_type": "code",
   "execution_count": 5,
   "metadata": {},
   "outputs": [],
   "source": [
    "coords = list(zip(data_p['X'],data_p['Y']))\n",
    "y = np.array(data_p['Landslid']).reshape((-1,1)) \n",
    "elev = np.array(data_p['Elev']).reshape((-1,1))\n",
    "slope = np.array(data_p['Slope']).reshape((-1,1))\n",
    "SinAspct = np.array(data_p['SinAspct']).reshape(-1,1)\n",
    "CosAspct = np.array(data_p['CosAspct']).reshape(-1,1)\n",
    "X = np.hstack([elev,slope,SinAspct,CosAspct])\n",
    "x = CosAspct\n",
    "\n",
    "X_std = (X-X.mean(axis=0))/X.std(axis=0)\n",
    "x_std = (x-x.mean(axis=0))/x.std(axis=0)\n",
    "y_std = (y-y.mean(axis=0))/y.std(axis=0)"
   ]
  },
  {
   "cell_type": "code",
   "execution_count": 6,
   "metadata": {},
   "outputs": [
    {
     "data": {
      "text/plain": [
       "108.0"
      ]
     },
     "execution_count": 6,
     "metadata": {},
     "output_type": "execute_result"
    }
   ],
   "source": [
    "bw=Sel_BW(coords,y,x_std,family=Binomial(),constant=False).search()\n",
    "gwr_mod=GWR(coords,y,x_std,bw=bw,family=Binomial(),constant=False).fit()\n",
    "bw"
   ]
  },
  {
   "cell_type": "markdown",
   "metadata": {},
   "source": [
    "##### Running the function with family = Binomial()"
   ]
  },
  {
   "cell_type": "markdown",
   "metadata": {},
   "source": [
    "#### Bandwidths check"
   ]
  },
  {
   "cell_type": "code",
   "execution_count": 7,
   "metadata": {},
   "outputs": [
    {
     "name": "stdout",
     "output_type": "stream",
     "text": [
      "Current iteration: 1 ,SOC: 0.0752521\n",
      "Bandwidths: 108.0\n",
      "Current iteration: 2 ,SOC: 0.0213201\n",
      "Bandwidths: 184.0\n",
      "Current iteration: 3 ,SOC: 5.8e-05\n",
      "Bandwidths: 184.0\n",
      "Current iteration: 4 ,SOC: 1e-06\n",
      "Bandwidths: 184.0\n"
     ]
    },
    {
     "data": {
      "text/plain": [
       "array([184.])"
      ]
     },
     "execution_count": 7,
     "metadata": {},
     "output_type": "execute_result"
    }
   ],
   "source": [
    "selector = Sel_BW(coords,y,x_std,family=Binomial(),multi=True,constant=False)\n",
    "selector.search(verbose=True)"
   ]
  },
  {
   "cell_type": "code",
   "execution_count": 8,
   "metadata": {},
   "outputs": [
    {
     "data": {
      "application/vnd.jupyter.widget-view+json": {
       "model_id": "39f8c9c179984bccb8ddf09964983951",
       "version_major": 2,
       "version_minor": 0
      },
      "text/plain": [
       "HBox(children=(IntProgress(value=0, description='Inference', max=1), HTML(value='')))"
      ]
     },
     "metadata": {},
     "output_type": "display_data"
    },
    {
     "name": "stdout",
     "output_type": "stream",
     "text": [
      "\n"
     ]
    }
   ],
   "source": [
    "mgwr_mod = MGWR(coords, y,x_std,selector,family=Binomial(),constant=False).fit()"
   ]
  },
  {
   "cell_type": "markdown",
   "metadata": {},
   "source": [
    "#### Parameter check"
   ]
  },
  {
   "cell_type": "code",
   "execution_count": 9,
   "metadata": {},
   "outputs": [
    {
     "data": {
      "text/plain": [
       "325.23949237389036"
      ]
     },
     "execution_count": 9,
     "metadata": {},
     "output_type": "execute_result"
    }
   ],
   "source": [
    "mgwr_mod.bic"
   ]
  },
  {
   "cell_type": "code",
   "execution_count": 10,
   "metadata": {},
   "outputs": [
    {
     "data": {
      "text/plain": [
       "338.19722049287054"
      ]
     },
     "execution_count": 10,
     "metadata": {},
     "output_type": "execute_result"
    }
   ],
   "source": [
    "gwr_mod.bic"
   ]
  },
  {
   "cell_type": "markdown",
   "metadata": {},
   "source": [
    "### Multivariate example"
   ]
  },
  {
   "cell_type": "code",
   "execution_count": 12,
   "metadata": {},
   "outputs": [
    {
     "data": {
      "text/plain": [
       "121.0"
      ]
     },
     "execution_count": 12,
     "metadata": {},
     "output_type": "execute_result"
    }
   ],
   "source": [
    "bw=Sel_BW(coords,y,X_std,family=Binomial(),constant=True).search()\n",
    "gwr_mod=GWR(coords,y,X_std,bw=bw,family=Binomial(),constant=True).fit()\n",
    "bw"
   ]
  },
  {
   "cell_type": "markdown",
   "metadata": {},
   "source": [
    "#### Bandwidth check"
   ]
  },
  {
   "cell_type": "code",
   "execution_count": 13,
   "metadata": {},
   "outputs": [
    {
     "name": "stdout",
     "output_type": "stream",
     "text": [
      "Current iteration: 1 ,SOC: 0.116124\n",
      "Bandwidths: 43.0, 62.0, 191.0, 100.0, 108.0\n",
      "Current iteration: 2 ,SOC: 0.0266811\n",
      "Bandwidths: 43.0, 106.0, 210.0, 100.0, 184.0\n",
      "Current iteration: 3 ,SOC: 0.0008147\n",
      "Bandwidths: 43.0, 106.0, 210.0, 100.0, 184.0\n",
      "Current iteration: 4 ,SOC: 5.28e-05\n",
      "Bandwidths: 43.0, 106.0, 210.0, 100.0, 184.0\n",
      "Current iteration: 5 ,SOC: 5.3e-06\n",
      "Bandwidths: 43.0, 106.0, 210.0, 100.0, 184.0\n"
     ]
    },
    {
     "data": {
      "text/plain": [
       "array([ 43., 106., 210., 100., 184.])"
      ]
     },
     "execution_count": 13,
     "metadata": {},
     "output_type": "execute_result"
    }
   ],
   "source": [
    "selector = Sel_BW(coords,y,X_std,family=Binomial(),multi=True,constant=True)\n",
    "selector.search(verbose=True)"
   ]
  },
  {
   "cell_type": "code",
   "execution_count": 14,
   "metadata": {},
   "outputs": [
    {
     "data": {
      "application/vnd.jupyter.widget-view+json": {
       "model_id": "82a7cf0857dc4a2184dbdcc383d0e6b2",
       "version_major": 2,
       "version_minor": 0
      },
      "text/plain": [
       "HBox(children=(IntProgress(value=0, description='Inference', max=1), HTML(value='')))"
      ]
     },
     "metadata": {},
     "output_type": "display_data"
    },
    {
     "name": "stdout",
     "output_type": "stream",
     "text": [
      "\n"
     ]
    }
   ],
   "source": [
    "mgwr_mod = MGWR(coords, y,X_std,selector,family=Binomial(),constant=True).fit()"
   ]
  },
  {
   "cell_type": "markdown",
   "metadata": {},
   "source": [
    "#### AIC, AICc, BIC check"
   ]
  },
  {
   "cell_type": "code",
   "execution_count": 15,
   "metadata": {},
   "outputs": [
    {
     "data": {
      "text/plain": [
       "(264.9819711678866, 251.85376815296377)"
      ]
     },
     "execution_count": 15,
     "metadata": {},
     "output_type": "execute_result"
    }
   ],
   "source": [
    "gwr_mod.aicc, mgwr_mod.aicc"
   ]
  },
  {
   "cell_type": "markdown",
   "metadata": {},
   "source": [
    "### Global model check"
   ]
  },
  {
   "cell_type": "code",
   "execution_count": 16,
   "metadata": {},
   "outputs": [
    {
     "name": "stdout",
     "output_type": "stream",
     "text": [
      "Current iteration: 1 ,SOC: 0.6120513\n",
      "Bandwidths: 239.0, 239.0, 239.0, 239.0, 239.0\n",
      "Current iteration: 2 ,SOC: 0.0594775\n",
      "Bandwidths: 239.0, 239.0, 239.0, 239.0, 239.0\n",
      "Current iteration: 3 ,SOC: 0.0025897\n",
      "Bandwidths: 239.0, 239.0, 239.0, 239.0, 239.0\n",
      "Current iteration: 4 ,SOC: 0.0001289\n",
      "Bandwidths: 239.0, 239.0, 239.0, 239.0, 239.0\n",
      "Current iteration: 5 ,SOC: 1.17e-05\n",
      "Bandwidths: 239.0, 239.0, 239.0, 239.0, 239.0\n",
      "Current iteration: 6 ,SOC: 1.2e-06\n",
      "Bandwidths: 239.0, 239.0, 239.0, 239.0, 239.0\n"
     ]
    },
    {
     "data": {
      "text/plain": [
       "array([239., 239., 239., 239., 239.])"
      ]
     },
     "execution_count": 16,
     "metadata": {},
     "output_type": "execute_result"
    }
   ],
   "source": [
    "selector=Sel_BW(coords,y,X_std,multi=True,family=Binomial(),constant=True)\n",
    "selector.search(verbose=True,multi_bw_min=[239,239,239,239,239], multi_bw_max=[239,239,239,239,239])"
   ]
  },
  {
   "cell_type": "code",
   "execution_count": 17,
   "metadata": {},
   "outputs": [
    {
     "data": {
      "application/vnd.jupyter.widget-view+json": {
       "model_id": "ef529125b27a490ba4999ccdefdcfac7",
       "version_major": 2,
       "version_minor": 0
      },
      "text/plain": [
       "HBox(children=(IntProgress(value=0, description='Inference', max=1), HTML(value='')))"
      ]
     },
     "metadata": {},
     "output_type": "display_data"
    },
    {
     "name": "stdout",
     "output_type": "stream",
     "text": [
      "\n"
     ]
    }
   ],
   "source": [
    "mgwr_mod = MGWR(coords, y,X_std,selector,family=Binomial(),constant=True).fit()"
   ]
  },
  {
   "cell_type": "code",
   "execution_count": 18,
   "metadata": {},
   "outputs": [
    {
     "name": "stdout",
     "output_type": "stream",
     "text": [
      "===========================================================================\n",
      "Model type                                                         Binomial\n",
      "Number of observations:                                                 239\n",
      "Number of covariates:                                                     5\n",
      "\n",
      "Global Regression Results\n",
      "---------------------------------------------------------------------------\n",
      "Deviance:                                                           266.246\n",
      "Log-likelihood:                                                    -133.123\n",
      "AIC:                                                                276.246\n",
      "AICc:                                                               276.504\n",
      "BIC:                                                              -1015.246\n",
      "Percent deviance explained:                                           0.182\n",
      "Adj. percent deviance explained:                                      0.168\n",
      "\n",
      "Variable                              Est.         SE  t(Est/SE)    p-value\n",
      "------------------------------- ---------- ---------- ---------- ----------\n",
      "X0                                   0.389      0.150      2.591      0.010\n",
      "X1                                  -0.784      0.166     -4.715      0.000\n",
      "X2                                   0.654      0.168      3.881      0.000\n",
      "X3                                   0.039      0.149      0.264      0.792\n",
      "X4                                  -0.371      0.156     -2.381      0.017\n",
      "\n",
      "Geographically Weighted Regression (GWR) Results\n",
      "---------------------------------------------------------------------------\n",
      "Spatial kernel:                                           Adaptive bisquare\n",
      "Bandwidth used:                                                     121.000\n",
      "\n",
      "Diagnostic information\n",
      "---------------------------------------------------------------------------\n",
      "Effective number of parameters (trace(S)):                           23.263\n",
      "Degree of freedom (n - trace(S)):                                   215.737\n",
      "Log-likelihood:                                                    -106.599\n",
      "AIC:                                                                259.725\n",
      "AICc:                                                               264.982\n",
      "BIC:                                                                340.598\n",
      "Percent deviance explained:                                         0.345\n",
      "Adjusted percent deviance explained:                                0.274\n",
      "Adj. alpha (95%):                                                     0.011\n",
      "Adj. critical t value (95%):                                          2.571\n",
      "\n",
      "Summary Statistics For GWR Parameter Estimates\n",
      "---------------------------------------------------------------------------\n",
      "Variable                   Mean        STD        Min     Median        Max\n",
      "-------------------- ---------- ---------- ---------- ---------- ----------\n",
      "X0                        0.459      0.360     -0.360      0.436      1.232\n",
      "X1                       -0.824      0.479     -2.128     -0.729     -0.095\n",
      "X2                        0.567      0.390     -0.030      0.600      1.328\n",
      "X3                        0.103      0.270     -0.473      0.183      0.565\n",
      "X4                       -0.331      0.247     -1.118     -0.287      0.096\n",
      "===========================================================================\n",
      "\n"
     ]
    }
   ],
   "source": [
    "gwr_mod.summary()"
   ]
  },
  {
   "cell_type": "code",
   "execution_count": 19,
   "metadata": {},
   "outputs": [
    {
     "data": {
      "text/plain": [
       "array([ 0.19936242, -0.3251776 ,  0.32069312,  0.04295657, -0.20408904])"
      ]
     },
     "execution_count": 19,
     "metadata": {},
     "output_type": "execute_result"
    }
   ],
   "source": [
    "np.mean(mgwr_mod.params,axis=0)"
   ]
  },
  {
   "cell_type": "code",
   "execution_count": 20,
   "metadata": {},
   "outputs": [
    {
     "data": {
      "text/plain": [
       "(303.9521120546862, 340.5982180538755)"
      ]
     },
     "execution_count": 20,
     "metadata": {},
     "output_type": "execute_result"
    }
   ],
   "source": [
    "mgwr_mod.bic, gwr_mod.bic"
   ]
  }
 ],
 "metadata": {
  "kernelspec": {
   "display_name": "Python 3",
   "language": "python",
   "name": "python3"
  },
  "language_info": {
   "codemirror_mode": {
    "name": "ipython",
    "version": 3
   },
   "file_extension": ".py",
   "mimetype": "text/x-python",
   "name": "python",
   "nbconvert_exporter": "python",
   "pygments_lexer": "ipython3",
   "version": "3.6.6"
  }
 },
 "nbformat": 4,
 "nbformat_minor": 2
}
