{
 "cells": [
  {
   "cell_type": "markdown",
   "metadata": {},
   "source": [
    "# Multiscale Geographically Weighted Regression - Poisson dependent variable\n",
    "\n",
    "\n",
    "The model has been explored and tested for multiple parameters on real and simulated datasets. The research includes the following outline with separate notebooks for each part.\n",
    "\n",
    "\n",
    "**Notebook Outline:**  \n",
    "  \n",
    "**[Introduction Notebook (current)](Poisson_MGWR.ipynb)**\n",
    "- [Introduction](#Introduction)\n",
    " - [Introduction to the problem](#Introduction-to-the-project)\n",
    " - [Important Equations](#Statistical-Equations) \n",
    "- [Approaches Explored](#Approaches-Explored)\n",
    "- [References](#References)\n",
    "\n",
    "**[Initial module changes and univariate model check ](Poisson_MGWR_univariate_check.ipynb)**\n",
    "- [Setup with libraries](#Set-up-Cells)\n",
    "- [Fundamental equations for Poisson MGWR](#Fundamental-equations-for-Poisson-MGWR)\n",
    "- [Example Dataset](#Example-Dataset)\n",
    "- [Helper functions](#Helper-functions)\n",
    "- [Univariate example](#Univariate-example)\n",
    "    - [Parameter check](#Parameter-check)\n",
    "    - [Bandwidths check](#Bandwidths-check)\n",
    "\n",
    "**[Simulated Data example](Simulated_data_example_Poisson-MGWR.ipynb)**\n",
    "- [Setup with libraries](#Set-up-Cells)\n",
    "- [Create Simulated Dataset](#Create-Simulated-Dataset)\n",
    "    - [Forming independent variables](#Forming-independent-variables)\n",
    "    - [Creating y variable with Poisson distribution](#Creating-y-variable-with-Poisson-distribution)\n",
    "- [Univariate example](#Univariate-example)\n",
    "    - [Bandwidth: Random initialization check](#Bandwidth:-Random-initialization-check)\n",
    "    - [Parameters check](#Parameters-check)\n",
    "- [Multivariate example](#Multivariate-example)\n",
    "    - [Bandwidths: Random initialization check](#Bandwidths:-Random-initialization-check)\n",
    "    - [Parameters check](#Parameters-check)\n",
    "- [Global model parameter check](#Global-model-parameter-check)\n",
    " \n",
    "**[Real Data example](Real_data_example_Poisson-MGWR.ipynb)**\n",
    "\n",
    "- [Setup with libraries](#Set-up-Cells)\n",
    "- [Tokyo Mortality Dataset](#Tokyo-Mortality-Dataset)\n",
    "- [Univariate example](#Univariate-example)\n",
    "    - [Bandwidth: Random initialization check](#Bandwidth:-Random-initialization-check)\n",
    "    - [Parameter check](Parameter-check)\n",
    "- [Multivariate example](#Multivariate-example)\n",
    "    [Bandwidths: Random initialization check](#Bandwidths:-Random-initialization-check)\n",
    "- [MGWR bandwidths](#MGWR-bandwidths)\n",
    "- [AIC, AICc, BIC check](#AIC,-AICc,-BIC-check)\n",
    "\n",
    "**[Monte Carlo Simulation Visualization](Poisson_MGWR_MonteCarlo_Results.ipynb)**\n",
    " \n",
    "- [Setup with libraries](#Set-up-Cell)\n",
    "- [List bandwidths from pickles](#List-bandwidths-from-pickles)\n",
    "- [Parameter functions](#Parameter-functions)\n",
    "- [GWR bandwidth](#GWR-bandwidth)\n",
    "- [MGWR bandwidths](#MGWR-bandwidths)\n",
    "- [AIC, AICc, BIC check](#AIC,-AICc,-BIC-check)\n",
    "    - [AIC, AICc, BIC Boxplots for comparison](#AIC,-AICc,-BIC-Boxplots-for-comparison)\n",
    "- [Parameter comparison from MGWR and GWR](#Parameter-comparison-from-MGWR-and-GWR)"
   ]
  },
  {
   "cell_type": "markdown",
   "metadata": {},
   "source": [
    "---\n",
    "\n",
    "# Introduction\n",
    "\n",
    "## Introduction to the project\n",
    "\n",
    "A recent addition to the local statistical models in PySAL is the implementation of Multiscale Geographically Weighted Regression (MGWR) model, a multiscale extension to the widely used approach for modeling process spatial heterogeneity - Geographically Weighted Regression (GWR). GWR is a local spatial multivariate statistical modeling technique embedded within the regression framework that is calibrated and estimates covariate parameters at each location using borrowed data from neighboring observations. The extent of neighboring observations used for calibration is interpreted as the indicator of scale for the spatial processes and is assumed to be constant across covariates in GWR. MGWR, using a back-fitting algorithm relaxes the assumption that all processes being modeled operate at the same spatial scale and estimates a unique indicator of scale for each process.\n",
    "The GWR model in PySAL can currently estimate Gaussian, Poisson and Logistic models though the MGWR model is currently limited to only Gaussian models. This project aims to expand the MGWR model to nonlinear local spatial regression modeling techniques where the response outcomes may be discrete (following a Poisson distribution). This will enable a richer and holistic local statistical modeling framework to model multi-scale process heterogeneity for the open source community.\n",
    "\n",
    "## Statistical Equations\n",
    "\n",
    "A conventional Poisson regression model is written as:\n",
    "\n",
    "\\begin{align}\n",
    "O_i ~ Poisson[E_i exp ({\\sum} {\\beta} & _k x _{k,i})] \\\\\n",
    "\\end{align}\n",
    "\n",
    "where  $x_{k,1}$ is the kth explanatory variable in place i and the ${\\beta}_ks$ are the parameters and Poisson indicates a Poisson distribution with mean $\\lambda$.\n",
    "\n",
    "Nakaya et.al. (2005) introduced the concept of allowing parameter values to vary with geographical location ($u_i$), which is a vector of two dimensional co-ordinates describing the location i. The Poisson model for geographically varying parameters can be written as:\n",
    "\n",
    "\\begin{align}\n",
    "O_i ~ Poisson[E_i exp ({\\sum} {\\beta} & _k (u_i) x _{k,i})] \\\\\n",
    "\\end{align}\n",
    "\n",
    "The Geographically Weighted Poisson Regression model (GWPR) is estimated using a modified local Fisher scoring procedure, a form of iteratively reweighted least squares (IRLS). In this procedure, the following matrix computation of weighted least squares should be repeated to update parameter estimates until they converge (Nakaya et.al., 2005):\n",
    "\n",
    "\\begin{align}\n",
    "\\beta^{(l+1)} (u_i) = (X^{t} W (u_i) A(u_i)^{(l)} X)^{-1} X^{t} W (u_i) A (u_i) ^{(l)} z (u_i){(l)} \\\\\n",
    "\\end{align}"
   ]
  },
  {
   "cell_type": "markdown",
   "metadata": {},
   "source": [
    "# Approaches Explored"
   ]
  },
  {
   "cell_type": "markdown",
   "metadata": {},
   "source": [
    "# References"
   ]
  },
  {
   "cell_type": "markdown",
   "metadata": {},
   "source": [
    "1. Fotheringham, A. S., Yang, W., & Kang, W. (2017). Multiscale Geographically Weighted Regression (MGWR). Annals of the American Association of Geographers, 107(6), 1247–1265. https://doi.org/10.1080/24694452.2017.1352480\n",
    "\n",
    "\n",
    "2. Nakaya, T., Fotheringham, A. S., Brunsdon, C., & Charlton, M. (2005). Geographically weighted Poisson regression for disease association mapping. Statistics in Medicine, 24(17), 2695–2717. https://doi.org/10.1002/sim.2129\n",
    "\n",
    "\n",
    "3. Yu, H., Fotheringham, A. S., Li, Z., Oshan, T., Kang, W., & Wolf, L. J. (2019). Inference in Multiscale Geographically Weighted Regression. Geographical Analysis, gean.12189. https://doi.org/10.1111/gean.12189\n"
   ]
  }
 ],
 "metadata": {
  "kernelspec": {
   "display_name": "Python 3",
   "language": "python",
   "name": "python3"
  },
  "language_info": {
   "codemirror_mode": {
    "name": "ipython",
    "version": 3
   },
   "file_extension": ".py",
   "mimetype": "text/x-python",
   "name": "python",
   "nbconvert_exporter": "python",
   "pygments_lexer": "ipython3",
   "version": "3.6.6"
  }
 },
 "nbformat": 4,
 "nbformat_minor": 2
}
